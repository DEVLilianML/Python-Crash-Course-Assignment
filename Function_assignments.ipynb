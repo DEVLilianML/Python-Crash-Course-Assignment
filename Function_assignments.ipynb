{
 "cells": [
  {
   "cell_type": "markdown",
   "metadata": {},
   "source": [
    "## Exercise 8-1"
   ]
  },
  {
   "cell_type": "markdown",
   "metadata": {},
   "source": [
    "Write a function called display_message() that prints one sentence telling everyone what you are learning about in this chapter. Call the \n",
    "function, and make sure the message displays correctly."
   ]
  },
  {
   "cell_type": "code",
   "execution_count": 8,
   "metadata": {},
   "outputs": [
    {
     "name": "stdout",
     "output_type": "stream",
     "text": [
      "Am enjoying learing python\n"
     ]
    }
   ],
   "source": [
    "def display_message():\n",
    "    print(\"Am enjoying learing python\")\n",
    "\n",
    "display_message() "
   ]
  },
  {
   "cell_type": "markdown",
   "metadata": {},
   "source": [
    "## Exercise 8-2"
   ]
  },
  {
   "cell_type": "markdown",
   "metadata": {},
   "source": [
    "Write a function called favorite_book() that accepts one \n",
    "parameter, title. The function should print a message, such as One of my \n",
    "favorite books is Alice in Wonderland. Call the function, making sure to \n",
    "include a book title as an argument in the function call."
   ]
  },
  {
   "cell_type": "code",
   "execution_count": 49,
   "metadata": {},
   "outputs": [
    {
     "name": "stdout",
     "output_type": "stream",
     "text": [
      "One of my favorite books is Alice in Wonderland, Lilian Beach\n"
     ]
    }
   ],
   "source": [
    "def favorite_book(book):\n",
    " print(f\"One of my favorite books is Alice in Wonderland, {book}\")\n",
    "favorite_book('Lilian Beach')"
   ]
  },
  {
   "cell_type": "markdown",
   "metadata": {},
   "source": [
    "## Exercise 8-3"
   ]
  },
  {
   "cell_type": "markdown",
   "metadata": {},
   "source": [
    " Write a function called make_shirt() that accepts a size and the \n",
    "text of a message that should be printed on the shirt. The function should print a \n",
    "sentence summarizing the size of the shirt and the message printed on it.\n",
    "Call the function once using positional arguments to make a shirt. Call the \n",
    "function a second time using keyword arguments."
   ]
  },
  {
   "cell_type": "code",
   "execution_count": 77,
   "metadata": {},
   "outputs": [
    {
     "name": "stdout",
     "output_type": "stream",
     "text": [
      "medium size is ok, large\n",
      "medium size is ok, up chelsea\n"
     ]
    }
   ],
   "source": [
    "def make_shirt(shirt_size, shirt_message): ##calling a function using positional argument\n",
    "    \"\"\"Display information about a shirt.\"\"\" #this display information is not compulsory, your code can still run if you ommit it\n",
    "    print(f\"medium size is ok, {shirt_size}\")\n",
    "    print(f\"medium size is ok, {shirt_message}\")\n",
    "\n",
    "make_shirt(\"large\", \"up chelsea\")"
   ]
  },
  {
   "cell_type": "code",
   "execution_count": 80,
   "metadata": {},
   "outputs": [
    {
     "name": "stdout",
     "output_type": "stream",
     "text": [
      "medium size is ok, small\n",
      "medium size is ok, up chelsea\n"
     ]
    }
   ],
   "source": [
    "# calling a function using keyword arguments\n",
    "def make_shirt(shirt_size, shirt_message): \n",
    "    \"\"\"Display information about a shirt.\"\"\"\n",
    "    print(f\"medium size is ok, {shirt_size}\")\n",
    "    print(f\"medium size is ok, {shirt_message}\")\n",
    "\n",
    "make_shirt(shirt_size=\"small\", shirt_message=\"up chelsea\")"
   ]
  },
  {
   "cell_type": "markdown",
   "metadata": {},
   "source": [
    "## Exercise 8-4"
   ]
  },
  {
   "cell_type": "markdown",
   "metadata": {},
   "source": [
    "Modify the make_shirt() function so that shirts are large \n",
    "by default with a message that reads I love Python. Make a large shirt and a \n",
    "medium shirt with the default message, and a shirt of any size with a different \n",
    "message."
   ]
  },
  {
   "cell_type": "code",
   "execution_count": 85,
   "metadata": {},
   "outputs": [
    {
     "name": "stdout",
     "output_type": "stream",
     "text": [
      "i love python\n",
      "i love python\n",
      "best polo\n"
     ]
    }
   ],
   "source": [
    "def make_shirt(shirt_large, shirt_medium, shirt_of_many_size=\"best polo\"): \n",
    "    \"\"\"Display information about a shirt.\"\"\"\n",
    "    print(shirt_large)\n",
    "    print(shirt_medium)\n",
    "    print(shirt_of_many_size)\n",
    "\n",
    "make_shirt(\"i love python\", \"i love python\")"
   ]
  },
  {
   "cell_type": "markdown",
   "metadata": {},
   "source": [
    "## Exercise 8-5"
   ]
  },
  {
   "cell_type": "markdown",
   "metadata": {},
   "source": [
    "Write a function called describe_city() that accepts the name of \n",
    "a city and its country. The function should print a simple sentence, such as \n",
    "Reykjavik is in Iceland. Give the parameter for the country a default value. \n",
    "Call your function for three different cities, at least one of which is not in the \n",
    "default country."
   ]
  },
  {
   "cell_type": "code",
   "execution_count": 94,
   "metadata": {},
   "outputs": [
    {
     "name": "stdout",
     "output_type": "stream",
     "text": [
      "Reykjavik is in iceland {'Nigeria'}\n",
      "Reykjavik is in iceland {'lagos'}\n",
      "Reykjavik is in iceland {'paris'}\n",
      "Reykjavik is in iceland {'france'}\n"
     ]
    }
   ],
   "source": [
    "def describe_city(country_name, city_name):\n",
    "    print(f\"Reykjavik is in iceland\", {country_name} )\n",
    "    print(f\"Reykjavik is in iceland\", {city_name} )\n",
    "describe_city(\"Nigeria\", \"lagos\")\n",
    "describe_city(\"paris\", \"france\")\n"
   ]
  },
  {
   "cell_type": "markdown",
   "metadata": {},
   "source": [
    "## EXercise 8-6"
   ]
  },
  {
   "cell_type": "markdown",
   "metadata": {},
   "source": [
    "Write a function called city_country() that takes in the name \n",
    "of a city and its country. The function should return a string formatted like this:\n",
    "\"Santiago, Chile\"\n",
    "Call your function with at least three city-country pairs, and print the values \n",
    "that are returned."
   ]
  },
  {
   "cell_type": "code",
   "execution_count": 108,
   "metadata": {},
   "outputs": [
    {
     "data": {
      "text/plain": [
       "'Santiago Chile'"
      ]
     },
     "execution_count": 108,
     "metadata": {},
     "output_type": "execute_result"
    }
   ],
   "source": [
    "def city_country(city_name, country_name):\n",
    "    \"\"\"Return a city, neatly formatted.\"\"\"\n",
    "    full_name = f\"{city_name} {country_name}\"\n",
    "    return full_name.title()\n",
    "city_country(\"Santiago\", \"Chile\")\n"
   ]
  },
  {
   "cell_type": "markdown",
   "metadata": {},
   "source": [
    "## Exercise 8-7"
   ]
  },
  {
   "cell_type": "markdown",
   "metadata": {},
   "source": [
    "Write a function called make_album() that builds a dictionary \n",
    "describing a music album. The function should take in an artist name and an \n",
    "album title, and it should return a dictionary containing these two pieces of \n",
    "information. Use the function to make three dictionaries representing different \n",
    "albums. Print each return value to show that the dictionaries are storing the \n",
    "album information correctly.\n",
    "Use None to add an optional parameter to make_album() that allows you to \n",
    "store the number of songs on an album. If the calling line includes a value for \n",
    "the number of songs, add that value to the album’s dictionary. Make at least \n",
    "one new function call that includes the number of songs on an album."
   ]
  },
  {
   "cell_type": "code",
   "execution_count": 111,
   "metadata": {},
   "outputs": [
    {
     "name": "stdout",
     "output_type": "stream",
     "text": [
      "{'first': 'windysongs', 'last': 'palazo', 'album_songs': 12}\n"
     ]
    }
   ],
   "source": [
    "\n",
    "def make_album(artist_name, album_title, album_songs=None):\n",
    " \"\"\"Return a dictionary of information about an album.\"\"\"\n",
    " albums = {'first': artist_name, 'last': album_title}\n",
    " if album_songs:\n",
    "   albums['album_songs'] = album_songs\n",
    "   return albums\n",
    "musician = make_album('windysongs', 'palazo', album_songs=12)\n",
    "print(musician)"
   ]
  },
  {
   "cell_type": "markdown",
   "metadata": {},
   "source": [
    "## Exercise 8-8"
   ]
  },
  {
   "cell_type": "markdown",
   "metadata": {},
   "source": [
    "Start with your program from Exercise 8-7. Write a while\n",
    "loop that allows users to enter an album’s artist and title. Once you have that \n",
    "information, call make_album() with the user’s input and print the dictionary \n",
    "that’s created. Be sure to include a quit value in the while loop."
   ]
  },
  {
   "cell_type": "code",
   "execution_count": 115,
   "metadata": {},
   "outputs": [
    {
     "name": "stdout",
     "output_type": "stream",
     "text": [
      "{'first': 'windysongs', 'last': 'palazo', 'album_songs': 12}\n",
      "(enter 'q' at any time to quit)\n"
     ]
    }
   ],
   "source": [
    "def make_album(artist_name, album_title, album_songs=None):\n",
    " \"\"\"Return a dictionary of information about an album.\"\"\"\n",
    " albums = f\"{artist_name} {album_title}\"\n",
    " return albums\n",
    "while True:\n",
    "   print({'first': 'windysongs', 'last': 'palazo', 'album_songs': 12})\n",
    "   print(\"(enter 'q' at any time to quit)\")\n",
    "   artist_name = input(\"artist name: \")\n",
    "   if artist_name ==\"q\":\n",
    "    break\n",
    "   album_title = input(\"album title: \")\n",
    "   if artist_name ==\"q\":\n",
    "    break"
   ]
  },
  {
   "cell_type": "markdown",
   "metadata": {},
   "source": [
    "## Exercise 8-9"
   ]
  },
  {
   "cell_type": "markdown",
   "metadata": {},
   "source": [
    " Make a list containing a series of short text messages. Pass the \n",
    "list to a function called show_messages(), which prints each text message."
   ]
  },
  {
   "cell_type": "code",
   "execution_count": 71,
   "metadata": {},
   "outputs": [
    {
     "name": "stdout",
     "output_type": "stream",
     "text": [
      "Hello there!\n",
      "How are you doing?\n",
      "Just checking in.\n",
      "Hope you have a great day!\n",
      "See you soon!\n"
     ]
    }
   ],
   "source": [
    "def show_messages(messages):\n",
    "    for message in messages:\n",
    "        print(message)\n",
    "\n",
    "# List of short text messages\n",
    "text_messages = [\n",
    "    \"Hello there!\",\n",
    "    \"How are you doing?\",\n",
    "    \"Just checking in.\",\n",
    "    \"Hope you have a great day!\",\n",
    "    \"See you soon!\"\n",
    "]\n",
    "\n",
    "# Calling the show_messages function with the list\n",
    "show_messages(text_messages)"
   ]
  },
  {
   "cell_type": "markdown",
   "metadata": {},
   "source": [
    "## Exercise 8-10"
   ]
  },
  {
   "cell_type": "markdown",
   "metadata": {},
   "source": [
    "Start with a copy of your program from Exercise 8-9. \n",
    "Write a function called send_messages() that prints each text message and \n",
    "moves each message to a new list called sent_messages as it’s printed. After \n",
    "calling the function, print both of your lists to make sure the messages were \n",
    "moved correctly."
   ]
  },
  {
   "cell_type": "code",
   "execution_count": 70,
   "metadata": {},
   "outputs": [
    {
     "name": "stdout",
     "output_type": "stream",
     "text": [
      "Sending message: Hello there!\n",
      "Sending message: How are you doing?\n",
      "Sending message: Just checking in.\n",
      "Sending message: Hope you have a great day!\n",
      "Sending message: See you soon!\n",
      "Original Messages:\n",
      "\n",
      "Sent Messages:\n",
      "Hello there!\n",
      "How are you doing?\n",
      "Just checking in.\n",
      "Hope you have a great day!\n",
      "See you soon!\n"
     ]
    }
   ],
   "source": [
    "def send_messages(messages, sent_messages):\n",
    "    while messages:\n",
    "        current_message = messages.pop(0)\n",
    "        print(\"Sending message:\", current_message)\n",
    "        sent_messages.append(current_message)\n",
    "\n",
    "def show_messages(messages):\n",
    "    for message in messages:\n",
    "        print(message)\n",
    "\n",
    "# List of short text messages\n",
    "text_messages = [\n",
    "    \"Hello there!\",\n",
    "    \"How are you doing?\",\n",
    "    \"Just checking in.\",\n",
    "    \"Hope you have a great day!\",\n",
    "    \"See you soon!\"\n",
    "]\n",
    "\n",
    "# Create an empty list to store sent messages\n",
    "sent_messages = []\n",
    "\n",
    "# Calling the send_messages function with the list of messages and the empty sent_messages list\n",
    "send_messages(text_messages, sent_messages)\n",
    "\n",
    "# Print both lists to make sure the messages were moved correctly\n",
    "print(\"Original Messages:\")\n",
    "show_messages(text_messages)\n",
    "\n",
    "print(\"\\nSent Messages:\")\n",
    "show_messages(sent_messages)\n"
   ]
  },
  {
   "cell_type": "markdown",
   "metadata": {},
   "source": [
    "## Exercise 8-11"
   ]
  },
  {
   "cell_type": "markdown",
   "metadata": {},
   "source": [
    "Archived Messages: Start with your work from Exercise 8-10. Call the func\u0002tion send_messages() with a copy of the list of messages. After calling the func\u0002tion, print both of your lists to show that the original list has retained its messages."
   ]
  },
  {
   "cell_type": "code",
   "execution_count": 72,
   "metadata": {},
   "outputs": [
    {
     "name": "stdout",
     "output_type": "stream",
     "text": [
      "Sending message: Hello there!\n",
      "Sending message: How are you doing?\n",
      "Sending message: Just checking in.\n",
      "Sending message: Hope you have a great day!\n",
      "Sending message: See you soon!\n",
      "Original Messages:\n",
      "Hello there!\n",
      "How are you doing?\n",
      "Just checking in.\n",
      "Hope you have a great day!\n",
      "See you soon!\n",
      "\n",
      "Sent Messages:\n",
      "Hello there!\n",
      "How are you doing?\n",
      "Just checking in.\n",
      "Hope you have a great day!\n",
      "See you soon!\n"
     ]
    }
   ],
   "source": [
    "def send_messages(messages, sent_messages):\n",
    "    while messages:\n",
    "        current_message = messages.pop(0)\n",
    "        print(\"Sending message:\", current_message)\n",
    "        sent_messages.append(current_message)\n",
    "\n",
    "def show_messages(messages):\n",
    "    for message in messages:\n",
    "        print(message)\n",
    "\n",
    "# List of short text messages\n",
    "text_messages = [\n",
    "    \"Hello there!\",\n",
    "    \"How are you doing?\",\n",
    "    \"Just checking in.\",\n",
    "    \"Hope you have a great day!\",\n",
    "    \"See you soon!\"\n",
    "]\n",
    "\n",
    "# Create a copy of the list of messages\n",
    "text_messages_copy = text_messages.copy()\n",
    "\n",
    "# Create an empty list to store sent messages\n",
    "sent_messages = []\n",
    "\n",
    "# Calling the send_messages function with the copy of the list of messages\n",
    "send_messages(text_messages_copy, sent_messages)\n",
    "\n",
    "# Print both lists to show that the original list retains its messages\n",
    "print(\"Original Messages:\")\n",
    "show_messages(text_messages)\n",
    "\n",
    "print(\"\\nSent Messages:\")\n",
    "show_messages(sent_messages)\n"
   ]
  },
  {
   "cell_type": "markdown",
   "metadata": {},
   "source": [
    "## Exercise 8-12"
   ]
  },
  {
   "cell_type": "markdown",
   "metadata": {},
   "source": [
    " Write a function that accepts a list of items a person wants \n",
    "on a sandwich. The function should have one parameter that collects as many \n",
    "items as the function call provides, and it should print a summary of the sandwich that’s being ordered. Call the function three times, using a different number of arguments each time."
   ]
  },
  {
   "cell_type": "code",
   "execution_count": 7,
   "metadata": {},
   "outputs": [
    {
     "name": "stdout",
     "output_type": "stream",
     "text": [
      "('gala',)\n",
      "('bread', 'shawama')\n",
      "('roast meat', 'toast bread', 'barbique fish')\n"
     ]
    }
   ],
   "source": [
    "def list_items(*sandwich):\n",
    " \"\"\"Print the list of sandwich that have been requested.\"\"\" # NB this sentence is not compulsory\n",
    " print(sandwich)\n",
    "list_items('gala')\n",
    "list_items('bread', 'shawama')\n",
    "list_items('roast meat', 'toast bread', 'barbique fish')\n"
   ]
  },
  {
   "cell_type": "markdown",
   "metadata": {},
   "source": [
    "## Exercise 8- 13"
   ]
  },
  {
   "cell_type": "markdown",
   "metadata": {},
   "source": [
    "Start with a copy of user_profile.py from page 148. Build a \n",
    "profile of yourself by calling build_profile(), using your first and last names \n",
    "and three other key-value pairs that describe you."
   ]
  },
  {
   "cell_type": "code",
   "execution_count": 9,
   "metadata": {},
   "outputs": [
    {
     "name": "stdout",
     "output_type": "stream",
     "text": [
      "{'location': 'lagos', 'field': 'Developer', 'age': 27, 'first_name': 'Lilian', 'last_name': 'Onuoha'}\n"
     ]
    }
   ],
   "source": [
    "def build_profile(first, last, **user_info):\n",
    " \"\"\"Build a dictionary containing my profile.\"\"\"\n",
    " user_info['first_name'] = first\n",
    " user_info['last_name'] = last\n",
    " return user_info\n",
    "user_profile = build_profile('Lilian', 'Onuoha',\n",
    " location='lagos',\n",
    " field='Developer',\n",
    " age = 27)\n",
    "print(user_profile)"
   ]
  },
  {
   "cell_type": "markdown",
   "metadata": {},
   "source": [
    "## Exercise 8- 14"
   ]
  },
  {
   "cell_type": "markdown",
   "metadata": {},
   "source": [
    " Write a function that stores information about a car in a dictionary. The function should always receive a manufacturer and a model name. It \n",
    "should then accept an arbitrary number of keyword arguments. Call the function with the required information and two other name-value pairs, such as a \n",
    "color or an optional feature. Your function should work for a call like this one:\n",
    "car = make_car('subaru', 'outback', color='blue', tow_package=True)\n",
    "Print the dictionary that’s returned to make sure all the information was \n",
    "stored correctly."
   ]
  },
  {
   "cell_type": "code",
   "execution_count": 10,
   "metadata": {},
   "outputs": [
    {
     "name": "stdout",
     "output_type": "stream",
     "text": [
      "{'color': 'blue', 'tow_package': True, 'manufacturer_name': 'subaru', 'model_name': 'outback'}\n"
     ]
    }
   ],
   "source": [
    "def make_car(manufacturer, model, **car_design):\n",
    " \"\"\"Build a dictionary containing everything we know about a car.\"\"\"\n",
    " car_design['manufacturer_name'] = manufacturer\n",
    " car_design['model_name'] = model\n",
    " return car_design\n",
    "car = make_car('subaru', 'outback', color='blue', tow_package=True)\n",
    "print(car)"
   ]
  },
  {
   "cell_type": "markdown",
   "metadata": {},
   "source": [
    "## Exercise 8- 15"
   ]
  },
  {
   "cell_type": "markdown",
   "metadata": {},
   "source": [
    "Put the functions for the example printing_models.py in a \n",
    "separate file called printing_functions.py. Write an import statement at the top \n",
    "of printing_models.py, and modify the file to use the imported functions."
   ]
  },
  {
   "cell_type": "code",
   "execution_count": 14,
   "metadata": {},
   "outputs": [
    {
     "name": "stdout",
     "output_type": "stream",
     "text": [
      "\n",
      "Making a 16-inch pizza with the following toppings:\n",
      "- pepperoni\n",
      "\n",
      "Making a 12-inch pizza with the following toppings:\n",
      "- mushrooms\n",
      "- green peppers\n",
      "- extra cheese\n"
     ]
    }
   ],
   "source": [
    "import printing_models\n",
    "printing_models.make_pizza(16, 'pepperoni')\n",
    "printing_models.make_pizza(12, 'mushrooms', 'green peppers', 'extra cheese')"
   ]
  },
  {
   "cell_type": "markdown",
   "metadata": {},
   "source": [
    "## Exercise 8- 16"
   ]
  },
  {
   "cell_type": "code",
   "execution_count": 17,
   "metadata": {},
   "outputs": [
    {
     "name": "stdout",
     "output_type": "stream",
     "text": [
      "Reykjavik is in iceland {'Nigeria'}\n",
      "Reykjavik is in iceland {'lagos'}\n",
      "Reykjavik is in iceland {'paris'}\n",
      "Reykjavik is in iceland {'france'}\n"
     ]
    }
   ],
   "source": [
    "# Using a program you wrote that has one function in it,\n",
    "# store that function in a separate file. Import the function into your main program file, and \n",
    "# call the function using each of these approaches:\n",
    "# a) import module_name\n",
    " # b) from module_name import function_name\n",
    " # c) from module_name import function_name as fn\n",
    " # d) import module_name as mn\n",
    " # e) from module_name import *\n",
    "\n",
    "import carfile      # import module_name\n",
    "\n",
    "carfile.describe_city(\"Nigeria\", \"lagos\") \n",
    "carfile.describe_city(\"paris\", \"france\")\n",
    "\n"
   ]
  },
  {
   "cell_type": "code",
   "execution_count": 18,
   "metadata": {},
   "outputs": [
    {
     "name": "stdout",
     "output_type": "stream",
     "text": [
      "Reykjavik is in iceland {'Nigeria'}\n",
      "Reykjavik is in iceland {'lagos'}\n",
      "Reykjavik is in iceland {'paris'}\n",
      "Reykjavik is in iceland {'france'}\n"
     ]
    }
   ],
   "source": [
    " # b) from module_name import function_name\n",
    "from carfile import describe_city\n",
    "\n",
    "describe_city(\"Nigeria\", \"lagos\") \n",
    "describe_city(\"paris\", \"france\")"
   ]
  },
  {
   "cell_type": "code",
   "execution_count": 20,
   "metadata": {},
   "outputs": [
    {
     "name": "stdout",
     "output_type": "stream",
     "text": [
      "Reykjavik is in iceland {'Nigeria'}\n",
      "Reykjavik is in iceland {'lagos'}\n",
      "Reykjavik is in iceland {'paris'}\n",
      "Reykjavik is in iceland {'france'}\n"
     ]
    }
   ],
   "source": [
    "# c) from module_name import function_name as fn\n",
    "from carfile import describe_city as dc\n",
    "\n",
    "dc(\"Nigeria\", \"lagos\") \n",
    "dc(\"paris\", \"france\")"
   ]
  },
  {
   "cell_type": "code",
   "execution_count": 24,
   "metadata": {},
   "outputs": [
    {
     "name": "stdout",
     "output_type": "stream",
     "text": [
      "Reykjavik is in iceland {'Nigeria'}\n",
      "Reykjavik is in iceland {'lagos'}\n",
      "Reykjavik is in iceland {'paris'}\n",
      "Reykjavik is in iceland {'france'}\n"
     ]
    }
   ],
   "source": [
    "# d) import module_name as mn\n",
    "import carfile as c   # import module_name\n",
    "\n",
    "c.describe_city(\"Nigeria\", \"lagos\") \n",
    "c.describe_city(\"paris\", \"france\")\n"
   ]
  },
  {
   "cell_type": "code",
   "execution_count": 25,
   "metadata": {},
   "outputs": [
    {
     "name": "stdout",
     "output_type": "stream",
     "text": [
      "Reykjavik is in iceland {'Nigeria'}\n",
      "Reykjavik is in iceland {'lagos'}\n",
      "Reykjavik is in iceland {'paris'}\n",
      "Reykjavik is in iceland {'france'}\n"
     ]
    }
   ],
   "source": [
    "# e) from module_name import *\n",
    "from carfile import*\n",
    "\n",
    "describe_city(\"Nigeria\", \"lagos\") \n",
    "describe_city(\"paris\", \"france\")"
   ]
  },
  {
   "cell_type": "markdown",
   "metadata": {},
   "source": [
    "## Exercise 8- 17"
   ]
  },
  {
   "cell_type": "markdown",
   "metadata": {},
   "source": [
    "Choose any three programs you wrote for this chapter, \n",
    "and make sure they follow the styling guidelines described in this section."
   ]
  },
  {
   "cell_type": "code",
   "execution_count": null,
   "metadata": {},
   "outputs": [],
   "source": [
    "# Below codes follows the styling rule\n",
    "def favorite_book(book):  \n",
    " print(f\"One of my favorite books is Alice in Wonderland, {book}\")\n",
    "favorite_book('Lilian Beach')"
   ]
  },
  {
   "cell_type": "code",
   "execution_count": null,
   "metadata": {},
   "outputs": [],
   "source": [
    "def make_car(manufacturer, model, **car_design):\n",
    " \"\"\"Build a dictionary containing everything we know about a car.\"\"\"\n",
    " car_design['manufacturer_name'] = manufacturer\n",
    " car_design['model_name'] = model\n",
    " return car_design\n",
    "car = make_car('subaru', 'outback', color='blue', tow_package=True)\n",
    "print(car)"
   ]
  },
  {
   "cell_type": "code",
   "execution_count": null,
   "metadata": {},
   "outputs": [],
   "source": [
    "def make_album(artist_name, album_title, album_songs=None):\n",
    " \"\"\"Return a dictionary of information about an album.\"\"\"\n",
    " albums = {'first': artist_name, 'last': album_title}\n",
    " if album_songs:\n",
    "   albums['album_songs'] = album_songs\n",
    "   return albums\n",
    "musician = make_album('windysongs', 'palazo', album_songs=12)\n",
    "print(musician)"
   ]
  }
 ],
 "metadata": {
  "kernelspec": {
   "display_name": "Python 3",
   "language": "python",
   "name": "python3"
  },
  "language_info": {
   "codemirror_mode": {
    "name": "ipython",
    "version": 3
   },
   "file_extension": ".py",
   "mimetype": "text/x-python",
   "name": "python",
   "nbconvert_exporter": "python",
   "pygments_lexer": "ipython3",
   "version": "3.11.7"
  }
 },
 "nbformat": 4,
 "nbformat_minor": 2
}
